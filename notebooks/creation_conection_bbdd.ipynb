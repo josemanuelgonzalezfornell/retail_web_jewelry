{
 "cells": [
  {
   "cell_type": "code",
   "execution_count": 2,
   "metadata": {},
   "outputs": [],
   "source": [
    "from sqlalchemy import create_engine, Column, Integer, String, inspect, DateTime, text, ForeignKey\n",
    "from sqlalchemy.ext.declarative import declarative_base\n",
    "from sqlalchemy.orm import sessionmaker, relationship\n",
    "import pandas as pd\n",
    "\n"
   ]
  },
  {
   "cell_type": "code",
   "execution_count": null,
   "metadata": {},
   "outputs": [],
   "source": [
    "class BBDD_MANAGEMENT():\n",
    "    def __init__(self, database_path):\n",
    "        self.engine = create_engine(f\"sqlite:///{database_path}\")\n",
    "        with self.engine.connect() as conn:\n",
    "            conn.execute(\"PRAGMA foreign_keys = ON;\")\n",
    "        self.Base = declarative_base()\n",
    "        self.Session = sessionmaker(bind=self.engine)\n",
    "        self.session = self.Session()\n",
    "        self.tables = inspect(self.engine).get_table_names()\n",
    "        self.models = self._generate_models()\n",
    "            \n",
    "    def _generate_models(self):\n",
    "        inspector = inspect(self.engine)\n",
    "        models = {}\n",
    "\n",
    "        for table_name in self.tables:\n",
    "            columns = []\n",
    "            for column_info in inspector.get_columns(table_name):\n",
    "                column_name = column_info['name']\n",
    "                column_type = column_info['type']\n",
    "                columns.append(Column(column_name, column_type, primary_key=column_info.get('primary_key', False)))\n",
    "\n",
    "            # Crear la clase dinámica\n",
    "            model = type(\n",
    "                table_name.capitalize(),\n",
    "                (self.Base,),\n",
    "                {'__tablename__': table_name, **{col.name: col for col in columns}}\n",
    "            )\n",
    "            models[table_name.capitalize()] = model\n",
    "\n",
    "        return models\n",
    "\n",
    "    def create_table(self, table_name: str, columns: dict, relationships: dict = None, primary_key: str = 'id'):\n",
    "        # verify if the table already exists\n",
    "        inspector = inspect(self.engine)\n",
    "        if table_name in inspector.get_table_names():\n",
    "            print(f\"La tabla {table_name} ya existe en la base de datos.\")\n",
    "            return\n",
    "\n",
    "        # Create a class for the table\n",
    "        attrs = {'__tablename__': table_name}\n",
    "        for column_name, column_type in columns.items():\n",
    "            if column_name == primary_key:\n",
    "                attrs[column_name] = Column(column_type, primary_key=True)\n",
    "\n",
    "            else:\n",
    "                attrs[column_name] = Column(column_type)\n",
    "        \n",
    "        if relationships:\n",
    "            for column_name, rel_info in relationships.items():\n",
    "                ref_table = rel_info['reference_table']\n",
    "                ref_column = rel_info['reference_column']\n",
    "                attrs[column_name] = Column(columns[column_name], ForeignKey(f\"{ref_table}.{ref_column}\"))\n",
    "                relationship_name = f\"{ref_table}_relation\"\n",
    "                attrs[relationship_name] = relationship(ref_table.capitalize())\n",
    "        \n",
    "        attrs[\"create_date\"] = Column(DateTime, nullable=False)\n",
    "        attrs[\"update_date\"] = Column(DateTime, nullable=False)\n",
    "\n",
    "        # Create the table\n",
    "        model = type(table_name.capitalize(), (self.Base,), attrs)\n",
    "        self.Base.metadata.create_all(self.engine)\n",
    "        self.models[table_name.capitalize()] = model\n",
    "\n",
    "        print(f\"La tabla {table_name} ha sido creada en la base de datos.\")\n",
    "\n",
    "    def drop_table(self, table_name: str):\n",
    "        inspector = inspect(self.engine)\n",
    "        if table_name in inspector.get_table_names():\n",
    "            self.models[table_name.capitalize()].__table__.drop(self.engine)\n",
    "            print(f\"La tabla {table_name} ha sido eliminada de la base de datos.\")\n",
    "        else:\n",
    "            print(f\"La tabla {table_name} no existe en la base de datos.\")\n",
    "\n",
    "    def upload_data(self, table_name: str, data: dict):\n",
    "        inspector = inspect(self.engine)\n",
    "        \n",
    "\n",
    "        if table_name in inspector.get_table_names():\n",
    "            columns = [col['name'] for col in inspector.get_columns(table_name)]\n",
    "            if \"id\" in columns:\n",
    "                with self.engine.connect() as connection:\n",
    "                    query = f\"SELECT MAX(id) FROM {table_name}\"\n",
    "                    result = connection.execute(text(query))\n",
    "                    max_id = result.scalar()\n",
    "                    next_id = (max_id or 0) + 1\n",
    "                data['id'] = next_id\n",
    "            \n",
    "            data[\"create_date\"] = pd.to_datetime(\"now\")\n",
    "            data[\"update_date\"] = pd.to_datetime(\"now\")\n",
    "            df = pd.DataFrame([data])\n",
    "            df.to_sql(table_name, self.engine, if_exists='append', index=False)\n",
    "            print(f\"Los datos han sido cargados en la tabla {table_name} de la base de datos.\")\n",
    "        else:\n",
    "            print(f\"La tabla {table_name} no existe en la base de datos.\")\n",
    "\n",
    "\n",
    "    def get_data_filtered(self, table_name: str, filters: dict):\n",
    "        query = self.session.query(self.models[table_name.capitalize()])\n",
    "        primary_key = self.models[table_name.capitalize()].__table__.primary_key.columns[0].name\n",
    "        for key, value in filters.items():\n",
    "            query = query.filter(getattr(self.models[table_name.capitalize()], key) == value)\n",
    "        \n",
    "        # Ejecutar la consulta\n",
    "        result = query.all()\n",
    "        \n",
    "        # Convertir el resultado a un DataFrame\n",
    "        data = [row.__dict__ for row in result]  # Convierte las filas a diccionarios\n",
    "        for item in data:\n",
    "            item.pop('_sa_instance_state', None)  # Elimina metadatos internos de SQLAlchemy\n",
    "\n",
    "        df = pd.DataFrame(data)\n",
    "        df = df.set_index(primary_key)\n",
    "        return df\n",
    "    \n",
    "    def modify_data(self, table_name: str, filters: dict, data: dict):\n",
    "        query = self.session.query(self.models[table_name.capitalize()])\n",
    "        data[\"date_update\"] = pd.to_datetime(\"now\")\n",
    "        for key, value in filters.items():\n",
    "            query = query.filter(getattr(self.models[table_name.capitalize()], key) == value)\n",
    "        \n",
    "\n",
    "        # Actualizar los registros con los nuevos valores\n",
    "        rows_updated = query.update(data, synchronize_session='fetch')\n",
    "        self.session.commit()\n",
    "\n",
    "        print(f\"{rows_updated} registros han sido actualizados en la tabla {table_name} de la base de datos.\")\n",
    "    \n",
    "    def get_all_data(self, table_name: str):\n",
    "        query = self.session.query(self.models[table_name.capitalize()])\n",
    "        primary_key = self.models[table_name.capitalize()].__table__.primary_key.columns[0].name\n",
    "        result = query.all()\n",
    "        \n",
    "        # Convertir el resultado a un DataFrame\n",
    "        data = [row.__dict__ for row in result]  # Convierte las filas a diccionarios\n",
    "        for item in data:\n",
    "            item.pop('_sa_instance_state', None)  # Elimina metadatos internos de SQLAlchemy\n",
    "\n",
    "        df = pd.DataFrame(data)\n",
    "        df = df.set_index(primary_key)\n",
    "        return df\n",
    "    def get_data(self, table_name: str):\n",
    "        query = self.session.query(self.models[table_name.capitalize()])\n",
    "        primary_key = self.models[table_name.capitalize()].__table__.primary_key.columns[0].name\n",
    "        result = query.all()\n",
    "        \n",
    "        # Convertir el resultado a un DataFrame\n",
    "        data = [row.__dict__ for row in result]  # Convierte las filas a diccionarios\n",
    "        for item in data:\n",
    "            item.pop('_sa_instance_state', None)  # Elimina metadatos internos de SQLAlchemy\n",
    "\n",
    "        df = pd.DataFrame(data)\n",
    "        df = df.set_index(primary_key)\n",
    "        return df\n",
    "    \n",
    "    def get_columns(self, table_name: str):\n",
    "        inspector = inspect(self.engine)\n",
    "        columns = inspector.get_columns(table_name)\n",
    "        return columns"
   ]
  },
  {
   "cell_type": "code",
   "execution_count": 102,
   "metadata": {},
   "outputs": [
    {
     "name": "stderr",
     "output_type": "stream",
     "text": [
      "/var/folders/r1/hd_91nzn1yb8kh1vq1c7gt2w0000gn/T/ipykernel_20206/1830934054.py:4: MovedIn20Warning: The ``declarative_base()`` function is now available as sqlalchemy.orm.declarative_base(). (deprecated since: 2.0) (Background on SQLAlchemy 2.0 at: https://sqlalche.me/e/b8d9)\n",
      "  self.Base = declarative_base()\n"
     ]
    }
   ],
   "source": [
    "bbdd_magement = BBDD_MANAGEMENT('retail_web_jewelry.db')"
   ]
  },
  {
   "cell_type": "code",
   "execution_count": 75,
   "metadata": {},
   "outputs": [
    {
     "name": "stdout",
     "output_type": "stream",
     "text": [
      "La tabla jewelry ya existe en la base de datos.\n"
     ]
    }
   ],
   "source": [
    "bbdd_magement.create_table('jewelry', {'id': Integer, 'name': String, 'price': Integer, 'description': String, 'image': String})"
   ]
  },
  {
   "cell_type": "code",
   "execution_count": 103,
   "metadata": {},
   "outputs": [
    {
     "name": "stdout",
     "output_type": "stream",
     "text": [
      "La tabla imagenes ha sido creada en la base de datos.\n"
     ]
    }
   ],
   "source": [
    "bbdd_magement.create_table('imagenes', {\"id\": String,'name': String, 'size': Integer}, {'name': {'reference_table': 'jewelry', 'reference_column': 'image'}})"
   ]
  },
  {
   "cell_type": "code",
   "execution_count": 105,
   "metadata": {},
   "outputs": [
    {
     "name": "stdout",
     "output_type": "stream",
     "text": [
      "Los datos han sido cargados en la tabla imagenes de la base de datos.\n"
     ]
    }
   ],
   "source": [
    "bbdd_magement.upload_data('imagenes', {'name': 'Jewelry 4', 'size': 100})\n"
   ]
  },
  {
   "cell_type": "code",
   "execution_count": 46,
   "metadata": {},
   "outputs": [
    {
     "name": "stdout",
     "output_type": "stream",
     "text": [
      "Los datos han sido cargados en la tabla jewelry de la base de datos.\n",
      "Los datos han sido cargados en la tabla jewelry de la base de datos.\n"
     ]
    }
   ],
   "source": [
    "bbdd_magement.upload_data('jewelry', {'name': 'Jewelry 1', 'price': 100, 'description': 'Description 1', 'image': 'image1.jpg'})\n",
    "bbdd_magement.upload_data('jewelry', {'name': 'Jewelry 2', 'price': 100, 'description': 'Description 2', 'image': 'image2.jpg'})"
   ]
  },
  {
   "cell_type": "code",
   "execution_count": 67,
   "metadata": {},
   "outputs": [
    {
     "data": {
      "text/html": [
       "<div>\n",
       "<style scoped>\n",
       "    .dataframe tbody tr th:only-of-type {\n",
       "        vertical-align: middle;\n",
       "    }\n",
       "\n",
       "    .dataframe tbody tr th {\n",
       "        vertical-align: top;\n",
       "    }\n",
       "\n",
       "    .dataframe thead th {\n",
       "        text-align: right;\n",
       "    }\n",
       "</style>\n",
       "<table border=\"1\" class=\"dataframe\">\n",
       "  <thead>\n",
       "    <tr style=\"text-align: right;\">\n",
       "      <th></th>\n",
       "      <th>description</th>\n",
       "      <th>name</th>\n",
       "      <th>create_date</th>\n",
       "      <th>price</th>\n",
       "      <th>image</th>\n",
       "      <th>update_date</th>\n",
       "    </tr>\n",
       "    <tr>\n",
       "      <th>id</th>\n",
       "      <th></th>\n",
       "      <th></th>\n",
       "      <th></th>\n",
       "      <th></th>\n",
       "      <th></th>\n",
       "      <th></th>\n",
       "    </tr>\n",
       "  </thead>\n",
       "  <tbody>\n",
       "    <tr>\n",
       "      <th>1</th>\n",
       "      <td>Description 1</td>\n",
       "      <td>Jewelry 1</td>\n",
       "      <td>2024-11-17 22:01:29.373864</td>\n",
       "      <td>100</td>\n",
       "      <td>image1.jpg</td>\n",
       "      <td>2024-11-17 22:01:29.374207</td>\n",
       "    </tr>\n",
       "  </tbody>\n",
       "</table>\n",
       "</div>"
      ],
      "text/plain": [
       "      description       name                create_date  price       image  \\\n",
       "id                                                                           \n",
       "1   Description 1  Jewelry 1 2024-11-17 22:01:29.373864    100  image1.jpg   \n",
       "\n",
       "                  update_date  \n",
       "id                             \n",
       "1  2024-11-17 22:01:29.374207  "
      ]
     },
     "execution_count": 67,
     "metadata": {},
     "output_type": "execute_result"
    }
   ],
   "source": [
    "bbdd_magement.get_data_filtered('jewelry', {'name': 'Jewelry 1'})"
   ]
  },
  {
   "cell_type": "code",
   "execution_count": 68,
   "metadata": {},
   "outputs": [
    {
     "data": {
      "text/html": [
       "<div>\n",
       "<style scoped>\n",
       "    .dataframe tbody tr th:only-of-type {\n",
       "        vertical-align: middle;\n",
       "    }\n",
       "\n",
       "    .dataframe tbody tr th {\n",
       "        vertical-align: top;\n",
       "    }\n",
       "\n",
       "    .dataframe thead th {\n",
       "        text-align: right;\n",
       "    }\n",
       "</style>\n",
       "<table border=\"1\" class=\"dataframe\">\n",
       "  <thead>\n",
       "    <tr style=\"text-align: right;\">\n",
       "      <th></th>\n",
       "      <th>description</th>\n",
       "      <th>name</th>\n",
       "      <th>create_date</th>\n",
       "      <th>price</th>\n",
       "      <th>image</th>\n",
       "      <th>update_date</th>\n",
       "    </tr>\n",
       "    <tr>\n",
       "      <th>id</th>\n",
       "      <th></th>\n",
       "      <th></th>\n",
       "      <th></th>\n",
       "      <th></th>\n",
       "      <th></th>\n",
       "      <th></th>\n",
       "    </tr>\n",
       "  </thead>\n",
       "  <tbody>\n",
       "    <tr>\n",
       "      <th>1</th>\n",
       "      <td>Description 1</td>\n",
       "      <td>Jewelry 1</td>\n",
       "      <td>2024-11-17 22:01:29.373864</td>\n",
       "      <td>100</td>\n",
       "      <td>image1.jpg</td>\n",
       "      <td>2024-11-17 22:01:29.374207</td>\n",
       "    </tr>\n",
       "    <tr>\n",
       "      <th>2</th>\n",
       "      <td>Description 2</td>\n",
       "      <td>Jewelry 2</td>\n",
       "      <td>2024-11-17 22:01:29.388742</td>\n",
       "      <td>100</td>\n",
       "      <td>image2.jpg</td>\n",
       "      <td>2024-11-17 22:01:29.389160</td>\n",
       "    </tr>\n",
       "  </tbody>\n",
       "</table>\n",
       "</div>"
      ],
      "text/plain": [
       "      description       name                create_date  price       image  \\\n",
       "id                                                                           \n",
       "1   Description 1  Jewelry 1 2024-11-17 22:01:29.373864    100  image1.jpg   \n",
       "2   Description 2  Jewelry 2 2024-11-17 22:01:29.388742    100  image2.jpg   \n",
       "\n",
       "                  update_date  \n",
       "id                             \n",
       "1  2024-11-17 22:01:29.374207  \n",
       "2  2024-11-17 22:01:29.389160  "
      ]
     },
     "execution_count": 68,
     "metadata": {},
     "output_type": "execute_result"
    }
   ],
   "source": [
    "bbdd_magement.get_all_data('jewelry')"
   ]
  },
  {
   "cell_type": "code",
   "execution_count": 12,
   "metadata": {},
   "outputs": [
    {
     "data": {
      "text/plain": [
       "price                    150\n",
       "description    Description 4\n",
       "image             image4.jpg\n",
       "Name: Jewelry 4, dtype: object"
      ]
     },
     "execution_count": 12,
     "metadata": {},
     "output_type": "execute_result"
    }
   ],
   "source": [
    "a = pd.DataFrame([{'name': 'Jewelry 3', 'price': 100, 'description': 'Description 3', 'image': 'image3.jpg'}])\n",
    "new_row = {'name': 'Jewelry 4', 'price': 150, 'description': 'Description 4', 'image': 'image4.jpg'}\n",
    "\n",
    "a = pd.concat([a, pd.DataFrame([new_row])], ignore_index=True)\n",
    "a.set_index(\"name\", inplace=True)\n",
    "a.loc[\"Jewelry 4\"]\n",
    "# a"
   ]
  },
  {
   "cell_type": "code",
   "execution_count": 13,
   "metadata": {},
   "outputs": [
    {
     "data": {
      "text/plain": [
       "{'price': 150, 'description': 'Description 4', 'image': 'image4.jpg'}"
      ]
     },
     "execution_count": 13,
     "metadata": {},
     "output_type": "execute_result"
    }
   ],
   "source": [
    "a.loc[\"Jewelry 4\"].to_dict()"
   ]
  },
  {
   "cell_type": "code",
   "execution_count": 2,
   "metadata": {},
   "outputs": [],
   "source": [
    "from utils.languages_bbdd_manager import LANGUAJE_BBDD_MANAGEMENT\n",
    "\n",
    "\n",
    "\n",
    "languajes_manager = LANGUAJE_BBDD_MANAGEMENT(\"lenguage_bbdd\")"
   ]
  },
  {
   "cell_type": "code",
   "execution_count": 5,
   "metadata": {},
   "outputs": [
    {
     "name": "stdout",
     "output_type": "stream",
     "text": [
      "La tabla languajes ha sido creada en la base de datos.\n"
     ]
    }
   ],
   "source": [
    "languajes_manager.create_table_languajes()"
   ]
  },
  {
   "cell_type": "code",
   "execution_count": 7,
   "metadata": {},
   "outputs": [
    {
     "name": "stdout",
     "output_type": "stream",
     "text": [
      "Los datos han sido cargados en la tabla languajes de la base de datos.\n"
     ]
    }
   ],
   "source": [
    "languajes_manager.add_data(data={'keywords': 'caca', 'word_es': 'pedo', 'word_en': 'pis'})"
   ]
  },
  {
   "cell_type": "code",
   "execution_count": 3,
   "metadata": {},
   "outputs": [
    {
     "data": {
      "text/plain": [
       "'{\"word_en\":{\"jewelry\":\"jewelry\",\"caca\":\"pis\"},\"word_es\":{\"jewelry\":\"joyeria\",\"caca\":\"pedo\"}}'"
      ]
     },
     "execution_count": 3,
     "metadata": {},
     "output_type": "execute_result"
    }
   ],
   "source": [
    "languajes_manager.get_language_data()"
   ]
  },
  {
   "cell_type": "code",
   "execution_count": 9,
   "metadata": {},
   "outputs": [
    {
     "data": {
      "text/plain": [
       "'{\"word_en\":{\"jewelry\":\"jewelry\",\"caca\":\"pis\"},\"word_es\":{\"jewelry\":\"joyeria\",\"caca\":\"pedo\"}}'"
      ]
     },
     "execution_count": 9,
     "metadata": {},
     "output_type": "execute_result"
    }
   ],
   "source": [
    "a[[\"word_en\", \"word_es\"]].to_json()"
   ]
  }
 ],
 "metadata": {
  "kernelspec": {
   "display_name": ".venv",
   "language": "python",
   "name": "python3"
  },
  "language_info": {
   "codemirror_mode": {
    "name": "ipython",
    "version": 3
   },
   "file_extension": ".py",
   "mimetype": "text/x-python",
   "name": "python",
   "nbconvert_exporter": "python",
   "pygments_lexer": "ipython3",
   "version": "3.11.7"
  }
 },
 "nbformat": 4,
 "nbformat_minor": 2
}
